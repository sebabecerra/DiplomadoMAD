{
  "nbformat": 4,
  "nbformat_minor": 0,
  "metadata": {
    "colab": {
      "provenance": [],
      "collapsed_sections": [],
      "mount_file_id": "1nlNh8eNMrSEVtAa5JI-rSLqjVs7SaIJq",
      "authorship_tag": "ABX9TyO3mO/GcFBbrj/X0nc9+rQr"
    },
    "kernelspec": {
      "name": "python3",
      "display_name": "Python 3"
    },
    "language_info": {
      "name": "python"
    },
    "accelerator": "GPU",
    "gpuClass": "standard"
  },
  "cells": [
    {
      "cell_type": "markdown",
      "source": [
        "#Configura acceso a grive"
      ],
      "metadata": {
        "id": "-MA-EPLgZXBA"
      }
    },
    {
      "cell_type": "code",
      "source": [
        "from google.colab import drive\n",
        "drive.mount('/content/gdrive')"
      ],
      "metadata": {
        "colab": {
          "base_uri": "https://localhost:8080/"
        },
        "id": "N1Nux7keAtPG",
        "outputId": "78d90f14-c8b7-44bb-c448-aa0202d79838"
      },
      "execution_count": null,
      "outputs": [
        {
          "output_type": "stream",
          "name": "stdout",
          "text": [
            "Mounted at /content/gdrive\n"
          ]
        }
      ]
    },
    {
      "cell_type": "code",
      "source": [
        "!pip install spacy --quiet\n",
        "!python -m spacy download es_core_news_md --quiet\n",
        "!python -m spacy download es_core_news_md --quiet\n",
        "!python -m spacy download es_core_news_sm --quiet"
      ],
      "metadata": {
        "id": "YXdi-abb0oT2",
        "colab": {
          "base_uri": "https://localhost:8080/"
        },
        "outputId": "c43344e6-d5b4-414f-c9dd-7c28d3538649"
      },
      "execution_count": null,
      "outputs": [
        {
          "output_type": "stream",
          "name": "stdout",
          "text": [
            "\u001b[K     |████████████████████████████████| 42.3 MB 1.7 MB/s \n",
            "\u001b[?25h\u001b[38;5;2m✔ Download and installation successful\u001b[0m\n",
            "You can now load the package via spacy.load('es_core_news_md')\n",
            "\u001b[38;5;2m✔ Download and installation successful\u001b[0m\n",
            "You can now load the package via spacy.load('es_core_news_md')\n",
            "\u001b[K     |████████████████████████████████| 12.9 MB 2.2 MB/s \n",
            "\u001b[?25h\u001b[38;5;2m✔ Download and installation successful\u001b[0m\n",
            "You can now load the package via spacy.load('es_core_news_sm')\n"
          ]
        }
      ]
    },
    {
      "cell_type": "code",
      "source": [
        "import warnings\n",
        "warnings.filterwarnings('ignore')"
      ],
      "metadata": {
        "id": "fueHp2OhvRzd"
      },
      "execution_count": null,
      "outputs": []
    },
    {
      "cell_type": "code",
      "source": [
        "import datetime\n",
        "import os\n",
        "import pandas as pd\n",
        "# Carga librerias\n",
        "import warnings\n",
        "warnings.filterwarnings('ignore')\n",
        "import spacy\n",
        "import pandas as pd\n",
        "import numpy as np\n",
        "from wordcloud import WordCloud\n",
        "import nltk\n",
        "from nltk.tokenize import word_tokenize\n",
        "from nltk.corpus import stopwords\n",
        "import string\n",
        "import spacy\n",
        "import os\n",
        "import matplotlib.pyplot as plt\n",
        "import seaborn as sns\n",
        "import math\n",
        "remove_punct_map = dict.fromkeys(map(ord, string.punctuation))\n",
        "pd.set_option('display.max_rows',1000)\n",
        "pd.set_option('display.max_columns',1000)\n",
        "from itertools import compress\n",
        "from nltk import word_tokenize\n",
        "import re\n",
        "from IPython.display import Image"
      ],
      "metadata": {
        "id": "Q60w7DMcy3ox"
      },
      "execution_count": null,
      "outputs": []
    },
    {
      "cell_type": "code",
      "source": [
        "nltk.download('punkt')\n",
        "nltk.download('stopwords')\n",
        "nltk.download('wordnet')\n",
        "nltk.download('omw-1.4')\n",
        "esp_stop = stopwords.words('spanish')\n",
        "nlp = spacy.load(\"es_core_news_sm\")"
      ],
      "metadata": {
        "id": "ONDIhB58u6G4",
        "colab": {
          "base_uri": "https://localhost:8080/"
        },
        "outputId": "5e6f6bd6-f069-4c2c-9223-fdd93b039c91"
      },
      "execution_count": null,
      "outputs": [
        {
          "output_type": "stream",
          "name": "stderr",
          "text": [
            "[nltk_data] Downloading package punkt to /root/nltk_data...\n",
            "[nltk_data]   Unzipping tokenizers/punkt.zip.\n",
            "[nltk_data] Downloading package stopwords to /root/nltk_data...\n",
            "[nltk_data]   Unzipping corpora/stopwords.zip.\n",
            "[nltk_data] Downloading package wordnet to /root/nltk_data...\n",
            "[nltk_data] Downloading package omw-1.4 to /root/nltk_data...\n"
          ]
        }
      ]
    },
    {
      "cell_type": "code",
      "source": [
        "%reload_ext rpy2.ipython"
      ],
      "metadata": {
        "id": "67DXKvgQp01t"
      },
      "execution_count": null,
      "outputs": []
    },
    {
      "cell_type": "markdown",
      "source": [
        "#Configurar directorio donde guardar el proyecto"
      ],
      "metadata": {
        "id": "Jy0TmSQfBe-c"
      }
    },
    {
      "cell_type": "code",
      "source": [
        "%cd '/content/gdrive/MyDrive'"
      ],
      "metadata": {
        "colab": {
          "base_uri": "https://localhost:8080/"
        },
        "id": "ERCBu5cy85ae",
        "outputId": "946e9e99-81b5-4844-c92b-7bc7b4bde853"
      },
      "execution_count": null,
      "outputs": [
        {
          "output_type": "stream",
          "name": "stdout",
          "text": [
            "/content/gdrive/MyDrive\n"
          ]
        }
      ]
    },
    {
      "cell_type": "code",
      "source": [
        "%ls"
      ],
      "metadata": {
        "colab": {
          "base_uri": "https://localhost:8080/"
        },
        "id": "8veOJKZERlP0",
        "outputId": "f335840b-c62d-4282-9f72-49ed12d7d78b"
      },
      "execution_count": null,
      "outputs": [
        {
          "output_type": "stream",
          "name": "stdout",
          "text": [
            "\u001b[0m\u001b[01;34m'Colab Notebooks'\u001b[0m/   \u001b[01;34mEjemplo_SS_2022_DAM\u001b[0m/   \u001b[01;34mprueba\u001b[0m/        \u001b[01;34mTuits_Medios\u001b[0m/\n",
            " \u001b[01;34mDepuc_Latam\u001b[0m/        \u001b[01;34mMK\u001b[0m/                    \u001b[01;34mTareas\u001b[0m/        \u001b[01;34mtwint\u001b[0m/\n",
            " \u001b[01;34mEjemplo\u001b[0m/            \u001b[01;34motro\u001b[0m/                 \u001b[01;34m'Tareas (1)'\u001b[0m/\n"
          ]
        }
      ]
    },
    {
      "cell_type": "code",
      "source": [
        "%mkdir 'Ejemplo_SS_2022_DAM'"
      ],
      "metadata": {
        "id": "WgYC9iWYwiR7",
        "colab": {
          "base_uri": "https://localhost:8080/"
        },
        "outputId": "6757b5ae-d63c-46d5-f0b6-41472efa2e9c"
      },
      "execution_count": null,
      "outputs": [
        {
          "output_type": "stream",
          "name": "stdout",
          "text": [
            "mkdir: cannot create directory ‘Ejemplo_SS_2022_DAM’: File exists\n"
          ]
        }
      ]
    },
    {
      "cell_type": "code",
      "source": [
        "ls"
      ],
      "metadata": {
        "colab": {
          "base_uri": "https://localhost:8080/"
        },
        "id": "BLWYu5yy-AG5",
        "outputId": "e65f269e-668c-4179-aceb-13e9f4e4e18d"
      },
      "execution_count": null,
      "outputs": [
        {
          "output_type": "stream",
          "name": "stdout",
          "text": [
            "\u001b[0m\u001b[01;34m'Colab Notebooks'\u001b[0m/   \u001b[01;34mEjemplo_SS_2022_DAM\u001b[0m/   \u001b[01;34mprueba\u001b[0m/        \u001b[01;34mTuits_Medios\u001b[0m/\n",
            " \u001b[01;34mDepuc_Latam\u001b[0m/        \u001b[01;34mMK\u001b[0m/                    \u001b[01;34mTareas\u001b[0m/        \u001b[01;34mtwint\u001b[0m/\n",
            " \u001b[01;34mEjemplo\u001b[0m/            \u001b[01;34motro\u001b[0m/                 \u001b[01;34m'Tareas (1)'\u001b[0m/\n"
          ]
        }
      ]
    },
    {
      "cell_type": "code",
      "source": [
        "cd 'Ejemplo_SS_2022_DAM'"
      ],
      "metadata": {
        "colab": {
          "base_uri": "https://localhost:8080/"
        },
        "id": "6gKgKZjD-QT6",
        "outputId": "d66c3203-48bd-4b08-eb2f-738d0d6fc998"
      },
      "execution_count": null,
      "outputs": [
        {
          "output_type": "stream",
          "name": "stdout",
          "text": [
            "/content/gdrive/MyDrive/Ejemplo_SS_2022_DAM\n"
          ]
        }
      ]
    },
    {
      "cell_type": "code",
      "source": [
        "ls"
      ],
      "metadata": {
        "id": "rICSc83w-U_-"
      },
      "execution_count": null,
      "outputs": []
    },
    {
      "cell_type": "code",
      "source": [
        "%mkdir prueba\n",
        "%cd prueba"
      ],
      "metadata": {
        "colab": {
          "base_uri": "https://localhost:8080/"
        },
        "id": "EG0SvK0pDKCh",
        "outputId": "8c750ac1-1451-41d2-8bc9-1389044771e5"
      },
      "execution_count": null,
      "outputs": [
        {
          "output_type": "stream",
          "name": "stdout",
          "text": [
            "mkdir: cannot create directory ‘prueba’: File exists\n",
            "/content/gdrive/MyDrive/Ejemplo/prueba\n"
          ]
        }
      ]
    },
    {
      "cell_type": "markdown",
      "source": [
        "#Clonar repositorio"
      ],
      "metadata": {
        "id": "t-BTEb3oCzIl"
      }
    },
    {
      "cell_type": "code",
      "source": [
        "%cd '/content/gdrive/MyDrive/'"
      ],
      "metadata": {
        "colab": {
          "base_uri": "https://localhost:8080/"
        },
        "id": "YGPHK8h1PJSO",
        "outputId": "caa1dec8-879d-4819-cd91-c49be35e75dc"
      },
      "execution_count": null,
      "outputs": [
        {
          "output_type": "stream",
          "name": "stdout",
          "text": [
            "/content/gdrive/MyDrive\n"
          ]
        }
      ]
    },
    {
      "cell_type": "code",
      "source": [
        "#!git clone --depth=1 https://github.com/twintproject/twint.git\n",
        "!git clone \"https://github.com/sebabecerra/twint.git\"\n",
        "#%cd twint\n",
        "#!pip3 install . -r requirements.txt"
      ],
      "metadata": {
        "id": "cmqU0had76fu",
        "colab": {
          "base_uri": "https://localhost:8080/"
        },
        "outputId": "4703e211-aa7a-438f-f8ca-748edfbc0bd9"
      },
      "execution_count": null,
      "outputs": [
        {
          "output_type": "stream",
          "name": "stdout",
          "text": [
            "fatal: destination path 'twint' already exists and is not an empty directory.\n"
          ]
        }
      ]
    },
    {
      "cell_type": "code",
      "source": [
        "%cd '/content/gdrive/MyDrive/twint'"
      ],
      "metadata": {
        "colab": {
          "base_uri": "https://localhost:8080/"
        },
        "id": "tZbfrA2j-6Kf",
        "outputId": "1133ed7c-0b6c-49ad-898d-fb607253b07d"
      },
      "execution_count": null,
      "outputs": [
        {
          "output_type": "stream",
          "name": "stdout",
          "text": [
            "/content/gdrive/MyDrive/twint\n"
          ]
        }
      ]
    },
    {
      "cell_type": "code",
      "source": [
        "!pip3 install . -r requirements.txt\n",
        "#import twint"
      ],
      "metadata": {
        "id": "0NCsYIA5BLss"
      },
      "execution_count": null,
      "outputs": []
    },
    {
      "cell_type": "code",
      "source": [
        "%%shell\n",
        "cd /content/gdrive/MyDrive/Ejemplo_SS_2022_DAM\n",
        "twint -u latercera -o tuitatercera.csv --csv"
      ],
      "metadata": {
        "id": "zMKHw7m7v_Al"
      },
      "execution_count": null,
      "outputs": []
    },
    {
      "cell_type": "code",
      "source": [
        "df = pd.read_csv('/content/gdrive/MyDrive/Ejemplo_SS_2022_DAM/tuitatercera.csv', sep=\"\\t\")"
      ],
      "metadata": {
        "id": "t9WnaYmQDdy_"
      },
      "execution_count": null,
      "outputs": []
    },
    {
      "cell_type": "code",
      "source": [
        "df.columns"
      ],
      "metadata": {
        "colab": {
          "base_uri": "https://localhost:8080/"
        },
        "id": "g6DOGXpMDlK-",
        "outputId": "8afc63cc-a881-4b97-fe97-c90ce823e8df"
      },
      "execution_count": null,
      "outputs": [
        {
          "output_type": "execute_result",
          "data": {
            "text/plain": [
              "Index(['id', 'conversation_id', 'created_at', 'date', 'time', 'timezone',\n",
              "       'user_id', 'username', 'name', 'place', 'tweet', 'language', 'mentions',\n",
              "       'urls', 'photos', 'replies_count', 'retweets_count', 'likes_count',\n",
              "       'hashtags', 'cashtags', 'link', 'retweet', 'quote_url', 'video',\n",
              "       'thumbnail', 'near', 'geo', 'source', 'user_rt_id', 'user_rt',\n",
              "       'retweet_id', 'reply_to', 'retweet_date', 'translate', 'trans_src',\n",
              "       'trans_dest'],\n",
              "      dtype='object')"
            ]
          },
          "metadata": {},
          "execution_count": 13
        }
      ]
    },
    {
      "cell_type": "code",
      "source": [
        "df"
      ],
      "metadata": {
        "id": "F-9SCW5O89CR"
      },
      "execution_count": null,
      "outputs": []
    },
    {
      "cell_type": "code",
      "source": [
        "%%shell\n",
        "cd /content/gdrive/MyDrive/Ejemplo\n",
        "twint -s '#apruebo' "
      ],
      "metadata": {
        "id": "xx5Q7oxGCLQn"
      },
      "execution_count": null,
      "outputs": []
    },
    {
      "cell_type": "markdown",
      "source": [
        "##Tarea Final\n",
        "\n",
        "1.   Descagar tuits referentes a alguna compania, persona o mercado que ud quiera analizar. Mantenga presente que quiere realizar una estrategia de ventas, o mejorar algun servicio o captar nuevos clientes.\n",
        "2.   Cree un diccionario para analisis de sentimiento.\n",
        "2.1  Definir 3 palabras positivas y tres negativas.\n",
        "3.   Desarrolle y calcule alguna metrica que capture el sentimiento.\n",
        "4. Presente una estrategia que aborde la problematica planteada en 1.\n",
        "\n"
      ],
      "metadata": {
        "id": "RV9VMHSw3UiO"
      }
    },
    {
      "cell_type": "code",
      "source": [
        "pwd"
      ],
      "metadata": {
        "colab": {
          "base_uri": "https://localhost:8080/",
          "height": 35
        },
        "id": "gavmYX55illl",
        "outputId": "ed286f0a-73ac-427c-d730-84fdcd10cd79"
      },
      "execution_count": null,
      "outputs": [
        {
          "output_type": "execute_result",
          "data": {
            "text/plain": [
              "'/content/gdrive/MyDrive/Ejemplo/twint'"
            ],
            "application/vnd.google.colaboratory.intrinsic+json": {
              "type": "string"
            }
          },
          "metadata": {},
          "execution_count": 13
        }
      ]
    },
    {
      "cell_type": "code",
      "source": [
        "%%capture\n",
        "%%shell\n",
        "Cuentas=('latercera' 'DFinanciero')\n",
        "cd '/content/gdrive/MyDrive/Tuits_Medios'\n",
        "CUR_DATE=`date +%Y-%m-%d`\n",
        "mkdir \"$CUR_DATE\"\n",
        "cd \"$CUR_DATE\"\n",
        "for variable in ${Cuentas[@]};\n",
        "do\n",
        "twint -u $variable -o $variable.csv --csv\n",
        "done"
      ],
      "metadata": {
        "id": "7ZTKVe8Izw5L"
      },
      "execution_count": null,
      "outputs": []
    },
    {
      "cell_type": "code",
      "source": [
        "ruta= '/content/gdrive/MyDrive/Tuits_Medios/2022-11-10/'\n",
        "appended_data = []\n",
        "for file in os.listdir(ruta):\n",
        "    df = pd.read_csv(ruta  + \"/\" + file, sep=\"\\t\")\n",
        "    appended_data.append(df)\n",
        "appended_data = pd.concat(appended_data)\n",
        "appended_data = appended_data[[\"date\", \"time\", \"username\", \"tweet\"]]\n",
        "appended_data.to_csv(ruta + \"Total_\" + \".csv\",sep='\\t')"
      ],
      "metadata": {
        "id": "nLT9o28jJ3w7"
      },
      "execution_count": null,
      "outputs": []
    },
    {
      "cell_type": "code",
      "source": [
        "appended_data"
      ],
      "metadata": {
        "id": "ERbe_3dp-gLH"
      },
      "execution_count": null,
      "outputs": []
    },
    {
      "cell_type": "code",
      "source": [
        "negativas=[\"Wall\",\"Street\",\"incertidumbre\"]\n",
        "positivas=[\"bueno\", \"gracias\", \"aumento\"]"
      ],
      "metadata": {
        "id": "ggW-O8oQK6nZ"
      },
      "execution_count": null,
      "outputs": []
    },
    {
      "cell_type": "code",
      "source": [
        "appended_data['negativas']=appended_data.tweet.str.count('|'.join(negativas))"
      ],
      "metadata": {
        "id": "ZSjHmCUpKPeG"
      },
      "execution_count": null,
      "outputs": []
    },
    {
      "cell_type": "code",
      "source": [
        "appended_data['positivas']=appended_data.tweet.str.count('|'.join(positivas))"
      ],
      "metadata": {
        "id": "TqsCcosAU9Ao"
      },
      "execution_count": null,
      "outputs": []
    },
    {
      "cell_type": "code",
      "source": [
        "appended_data"
      ],
      "metadata": {
        "id": "K62MdVoRSZdz"
      },
      "execution_count": null,
      "outputs": []
    },
    {
      "cell_type": "code",
      "source": [
        "d1 = datetime.date.today().strftime(\"%Y-%m-%d\")\n",
        "ruta= '/content/gdrive/MyDrive/Tuits_Medios/'\n",
        "appended_data = []\n",
        "for file in os.listdir(ruta + str(d1)):\n",
        "    df = pd.read_csv(ruta + str(d1) + \"/\" + file, sep=\"\\t\")\n",
        "    appended_data.append(df)\n",
        "appended_data = pd.concat(appended_data)\n",
        "appended_data = appended_data[[\"date\", \"time\", \"username\", \"tweet\"]]\n",
        "appended_data.to_csv(ruta + \"Total_\" + str(d1) + \".csv\",sep='\\t')"
      ],
      "metadata": {
        "id": "2X3EcSk_hgxN"
      },
      "execution_count": null,
      "outputs": []
    },
    {
      "cell_type": "code",
      "source": [
        "appended_data=pd.read_csv('/content/gdrive/MyDrive/Tuits_Medios/Total_2022-07-22.csv', sep=\"\\t\")"
      ],
      "metadata": {
        "id": "KncJ6PU_qGXT"
      },
      "execution_count": null,
      "outputs": []
    },
    {
      "cell_type": "code",
      "source": [
        "!pip install demoji\n",
        "import demoji\n",
        "\n",
        "text=\"🤑🤑🤑🤑🤑\"\n",
        "emoji_less_text = demoji.replace(text, \"\")"
      ],
      "metadata": {
        "id": "g5c22Lmo9Zsz",
        "colab": {
          "base_uri": "https://localhost:8080/"
        },
        "outputId": "cc978de3-2417-40cf-b6c1-cd1c6cdeeef2"
      },
      "execution_count": null,
      "outputs": [
        {
          "output_type": "stream",
          "name": "stdout",
          "text": [
            "Looking in indexes: https://pypi.org/simple, https://us-python.pkg.dev/colab-wheels/public/simple/\n",
            "Collecting demoji\n",
            "  Downloading demoji-1.1.0-py3-none-any.whl (42 kB)\n",
            "\u001b[?25l\r\u001b[K     |███████▋                        | 10 kB 41.4 MB/s eta 0:00:01\r\u001b[K     |███████████████▎                | 20 kB 37.9 MB/s eta 0:00:01\r\u001b[K     |███████████████████████         | 30 kB 45.5 MB/s eta 0:00:01\r\u001b[K     |██████████████████████████████▋ | 40 kB 27.8 MB/s eta 0:00:01\r\u001b[K     |████████████████████████████████| 42 kB 1.9 MB/s \n",
            "\u001b[?25hInstalling collected packages: demoji\n",
            "Successfully installed demoji-1.1.0\n"
          ]
        }
      ]
    },
    {
      "cell_type": "code",
      "source": [
        "punctuations = '''!()-[]{}\"#$&'*+,./;:<=>?@\\^_`|\"~“—”¬ø¿»'''\n",
        "\n",
        "ngramos_bi = []\n",
        "bi_tokens = []\n",
        "for ix in range(appended_data.shape[0]):\n",
        "  mytext = appended_data.iloc[ix].tweet\n",
        "  #Removing hashtags and mentions\n",
        "  mytext = re.sub(\"@[A-Za-z0-9_]+\",\"\", mytext)\n",
        "  mytext = re.sub(\"#[A-Za-z0-9_]+\",\"\", mytext)\n",
        "  #Removing links\n",
        "  mytext = re.sub(r\"http\\S+\", \"\", mytext)\n",
        "  mytext = re.sub(r\"www.\\S+\", \"\", mytext)\n",
        "  #Removing punctuations\n",
        "  mytext = re.sub('[()!?]', ' ', mytext)\n",
        "  mytext = re.sub('\\[.*?\\]',' ', mytext)\n",
        "  mytext = str(mytext).replace('  ', \"\").replace('\\n\\n', \"\").replace('[', \"\").replace(']', \"\").replace('\\n', \"\").replace('\\r', \" \").replace('\\t', \" \").strip()\n",
        "  mytext = mytext.translate(str.maketrans('', '', punctuations)).lower().strip()\n",
        "  #Filtering non-alphanumeric characters\n",
        "  #mytext = re.sub(\"[^a-z0-9]\",\" \", mytext)\n",
        "  mytext = demoji.replace(mytext, \"\")\n",
        "  tokens = word_tokenize(mytext)\n",
        "  tokens = [x for x in tokens if x not in esp_stop]\n",
        "  if len(tokens)>1:\n",
        "    bi_tokens = [' '.join(x) for x in list(nltk.bigrams(tokens))]\n",
        "  ngramos_bi.extend(bi_tokens)\n",
        "\n",
        "ngram_bi = pd.DataFrame(list(zip(ngramos_bi)), columns =['ngram_bi']) \n",
        "ngram_count_bi = ngram_bi['ngram_bi'].value_counts().rename_axis('ngram_bi').reset_index(name='counts')\n",
        "print(ngram_count_bi.head(10), \"\\n\", \n",
        "      \"Numero de Registros\", len(ngram_count_bi))"
      ],
      "metadata": {
        "colab": {
          "base_uri": "https://localhost:8080/"
        },
        "id": "P4kW4llVuGiN",
        "outputId": "0b8954d4-1fdc-4e9b-e9d8-c731ae9916bc"
      },
      "execution_count": null,
      "outputs": [
        {
          "output_type": "stream",
          "name": "stdout",
          "text": [
            "             ngram_bi  counts\n",
            "0          señal vivo     457\n",
            "1          vivo señal     285\n",
            "2       señal youtube     283\n",
            "3       banco central     237\n",
            "4  nueva constitución     208\n",
            "5     sistema frontal     200\n",
            "6           colo colo     196\n",
            "7       bono invierno     192\n",
            "8    presidente boric     167\n",
            "9        copa américa     154 \n",
            " Numero de Registros 83991\n"
          ]
        }
      ]
    }
  ]
}